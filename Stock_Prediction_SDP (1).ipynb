{
  "cells": [
    {
      "cell_type": "code",
      "execution_count": null,
      "metadata": {
        "colab": {
          "base_uri": "https://localhost:8080/"
        },
        "id": "fURnHm2ldLpw",
        "outputId": "7ec89bbe-a08c-4f0f-bfb5-ae3f1aaa3c63"
      },
      "outputs": [
        {
          "name": "stdout",
          "output_type": "stream",
          "text": [
            "--2021-10-13 07:36:19--  https://github.com/sanskrutirajput/STOCK_DATASET/blob/main/HDFC.csv?raw=true\n",
            "Resolving github.com (github.com)... 192.30.255.112\n",
            "Connecting to github.com (github.com)|192.30.255.112|:443... connected.\n",
            "HTTP request sent, awaiting response... 302 Found\n",
            "Location: https://github.com/sanskrutirajput/STOCK_DATASET/raw/main/HDFC.csv [following]\n",
            "--2021-10-13 07:36:19--  https://github.com/sanskrutirajput/STOCK_DATASET/raw/main/HDFC.csv\n",
            "Reusing existing connection to github.com:443.\n",
            "HTTP request sent, awaiting response... 302 Found\n",
            "Location: https://raw.githubusercontent.com/sanskrutirajput/STOCK_DATASET/main/HDFC.csv [following]\n",
            "--2021-10-13 07:36:20--  https://raw.githubusercontent.com/sanskrutirajput/STOCK_DATASET/main/HDFC.csv\n",
            "Resolving raw.githubusercontent.com (raw.githubusercontent.com)... 185.199.110.133, 185.199.109.133, 185.199.108.133, ...\n",
            "Connecting to raw.githubusercontent.com (raw.githubusercontent.com)|185.199.110.133|:443... connected.\n",
            "HTTP request sent, awaiting response... 200 OK\n",
            "Length: 610576 (596K) [text/plain]\n",
            "Saving to: ‘HDFC.csv?raw=true’\n",
            "\n",
            "HDFC.csv?raw=true   100%[===================>] 596.27K  --.-KB/s    in 0.03s   \n",
            "\n",
            "2021-10-13 07:36:20 (18.3 MB/s) - ‘HDFC.csv?raw=true’ saved [610576/610576]\n",
            "\n"
          ]
        }
      ],
      "source": [
        "!wget https://github.com/sanskrutirajput/STOCK_DATASET/blob/main/HDFC.csv?raw=true"
      ]
    },
    {
      "cell_type": "code",
      "execution_count": null,
      "metadata": {
        "id": "qA-wZhLGeXWs"
      },
      "outputs": [],
      "source": [
        "import pandas as pd\n",
        "import numpy as np\n",
        "import matplotlib.pyplot as plt\n",
        "import seaborn as sb\n",
        "from sklearn import linear_model\n",
        "\n",
        "%matplotlib inline"
      ]
    },
    {
      "cell_type": "code",
      "execution_count": null,
      "metadata": {
        "id": "TqQndQqYeX2s"
      },
      "outputs": [],
      "source": [
        "df= pd.read_csv('/content/HDFC.csv?raw=true')"
      ]
    },
    {
      "cell_type": "code",
      "execution_count": null,
      "metadata": {
        "colab": {
          "base_uri": "https://localhost:8080/",
          "height": 203
        },
        "id": "YUWH8TPLe4rm",
        "outputId": "e5f83d67-bf24-474e-b23a-ae016505ddca"
      },
      "outputs": [
        {
          "data": {
            "text/html": [
              "<div>\n",
              "<style scoped>\n",
              "    .dataframe tbody tr th:only-of-type {\n",
              "        vertical-align: middle;\n",
              "    }\n",
              "\n",
              "    .dataframe tbody tr th {\n",
              "        vertical-align: top;\n",
              "    }\n",
              "\n",
              "    .dataframe thead th {\n",
              "        text-align: right;\n",
              "    }\n",
              "</style>\n",
              "<table border=\"1\" class=\"dataframe\">\n",
              "  <thead>\n",
              "    <tr style=\"text-align: right;\">\n",
              "      <th></th>\n",
              "      <th>Date</th>\n",
              "      <th>Symbol</th>\n",
              "      <th>Series</th>\n",
              "      <th>Prev Close</th>\n",
              "      <th>Open</th>\n",
              "      <th>High</th>\n",
              "      <th>Low</th>\n",
              "      <th>Last</th>\n",
              "      <th>Close</th>\n",
              "      <th>VWAP</th>\n",
              "      <th>Volume</th>\n",
              "      <th>Turnover</th>\n",
              "      <th>Trades</th>\n",
              "      <th>Deliverable Volume</th>\n",
              "      <th>%Deliverble</th>\n",
              "    </tr>\n",
              "  </thead>\n",
              "  <tbody>\n",
              "    <tr>\n",
              "      <th>0</th>\n",
              "      <td>2000-01-03</td>\n",
              "      <td>HDFC</td>\n",
              "      <td>EQ</td>\n",
              "      <td>271.75</td>\n",
              "      <td>293.5</td>\n",
              "      <td>293.50</td>\n",
              "      <td>293.5</td>\n",
              "      <td>293.5</td>\n",
              "      <td>293.50</td>\n",
              "      <td>293.50</td>\n",
              "      <td>22744</td>\n",
              "      <td>6.675364e+11</td>\n",
              "      <td>NaN</td>\n",
              "      <td>NaN</td>\n",
              "      <td>NaN</td>\n",
              "    </tr>\n",
              "    <tr>\n",
              "      <th>1</th>\n",
              "      <td>2000-01-04</td>\n",
              "      <td>HDFC</td>\n",
              "      <td>EQ</td>\n",
              "      <td>293.50</td>\n",
              "      <td>317.0</td>\n",
              "      <td>317.00</td>\n",
              "      <td>297.0</td>\n",
              "      <td>304.0</td>\n",
              "      <td>304.05</td>\n",
              "      <td>303.62</td>\n",
              "      <td>255251</td>\n",
              "      <td>7.749972e+12</td>\n",
              "      <td>NaN</td>\n",
              "      <td>NaN</td>\n",
              "      <td>NaN</td>\n",
              "    </tr>\n",
              "    <tr>\n",
              "      <th>2</th>\n",
              "      <td>2000-01-05</td>\n",
              "      <td>HDFC</td>\n",
              "      <td>EQ</td>\n",
              "      <td>304.05</td>\n",
              "      <td>290.0</td>\n",
              "      <td>303.90</td>\n",
              "      <td>285.0</td>\n",
              "      <td>295.0</td>\n",
              "      <td>292.80</td>\n",
              "      <td>294.53</td>\n",
              "      <td>269087</td>\n",
              "      <td>7.925368e+12</td>\n",
              "      <td>NaN</td>\n",
              "      <td>NaN</td>\n",
              "      <td>NaN</td>\n",
              "    </tr>\n",
              "    <tr>\n",
              "      <th>3</th>\n",
              "      <td>2000-01-06</td>\n",
              "      <td>HDFC</td>\n",
              "      <td>EQ</td>\n",
              "      <td>292.80</td>\n",
              "      <td>301.0</td>\n",
              "      <td>314.00</td>\n",
              "      <td>295.0</td>\n",
              "      <td>296.0</td>\n",
              "      <td>296.45</td>\n",
              "      <td>300.14</td>\n",
              "      <td>305916</td>\n",
              "      <td>9.181669e+12</td>\n",
              "      <td>NaN</td>\n",
              "      <td>NaN</td>\n",
              "      <td>NaN</td>\n",
              "    </tr>\n",
              "    <tr>\n",
              "      <th>4</th>\n",
              "      <td>2000-01-07</td>\n",
              "      <td>HDFC</td>\n",
              "      <td>EQ</td>\n",
              "      <td>296.45</td>\n",
              "      <td>290.0</td>\n",
              "      <td>296.35</td>\n",
              "      <td>281.0</td>\n",
              "      <td>287.1</td>\n",
              "      <td>286.55</td>\n",
              "      <td>288.80</td>\n",
              "      <td>197039</td>\n",
              "      <td>5.690480e+12</td>\n",
              "      <td>NaN</td>\n",
              "      <td>NaN</td>\n",
              "      <td>NaN</td>\n",
              "    </tr>\n",
              "  </tbody>\n",
              "</table>\n",
              "</div>"
            ],
            "text/plain": [
              "         Date Symbol Series  ...  Trades  Deliverable Volume  %Deliverble\n",
              "0  2000-01-03   HDFC     EQ  ...     NaN                 NaN          NaN\n",
              "1  2000-01-04   HDFC     EQ  ...     NaN                 NaN          NaN\n",
              "2  2000-01-05   HDFC     EQ  ...     NaN                 NaN          NaN\n",
              "3  2000-01-06   HDFC     EQ  ...     NaN                 NaN          NaN\n",
              "4  2000-01-07   HDFC     EQ  ...     NaN                 NaN          NaN\n",
              "\n",
              "[5 rows x 15 columns]"
            ]
          },
          "execution_count": 7,
          "metadata": {},
          "output_type": "execute_result"
        }
      ],
      "source": [
        "df.head()"
      ]
    },
    {
      "cell_type": "code",
      "execution_count": null,
      "metadata": {
        "id": "1ivtc6vjfaAT"
      },
      "outputs": [],
      "source": [
        "### DATA PREPROCESSING\n"
      ]
    },
    {
      "cell_type": "code",
      "execution_count": null,
      "metadata": {
        "id": "DnK-wpcIe4vw"
      },
      "outputs": [],
      "source": [
        "df.drop('Date',axis=1,inplace=True)\n",
        "df.drop('Symbol',axis=1,inplace=True)\n",
        "df.drop('Series',axis=1,inplace=True)"
      ]
    },
    {
      "cell_type": "code",
      "execution_count": null,
      "metadata": {
        "colab": {
          "base_uri": "https://localhost:8080/",
          "height": 203
        },
        "id": "713VUq7Ie4xq",
        "outputId": "fbc8d375-6324-420a-e804-186446024f20"
      },
      "outputs": [
        {
          "data": {
            "text/html": [
              "<div>\n",
              "<style scoped>\n",
              "    .dataframe tbody tr th:only-of-type {\n",
              "        vertical-align: middle;\n",
              "    }\n",
              "\n",
              "    .dataframe tbody tr th {\n",
              "        vertical-align: top;\n",
              "    }\n",
              "\n",
              "    .dataframe thead th {\n",
              "        text-align: right;\n",
              "    }\n",
              "</style>\n",
              "<table border=\"1\" class=\"dataframe\">\n",
              "  <thead>\n",
              "    <tr style=\"text-align: right;\">\n",
              "      <th></th>\n",
              "      <th>Prev Close</th>\n",
              "      <th>Open</th>\n",
              "      <th>High</th>\n",
              "      <th>Low</th>\n",
              "      <th>Last</th>\n",
              "      <th>Close</th>\n",
              "      <th>VWAP</th>\n",
              "      <th>Volume</th>\n",
              "      <th>Turnover</th>\n",
              "      <th>Trades</th>\n",
              "      <th>Deliverable Volume</th>\n",
              "      <th>%Deliverble</th>\n",
              "    </tr>\n",
              "  </thead>\n",
              "  <tbody>\n",
              "    <tr>\n",
              "      <th>0</th>\n",
              "      <td>271.75</td>\n",
              "      <td>293.5</td>\n",
              "      <td>293.50</td>\n",
              "      <td>293.5</td>\n",
              "      <td>293.5</td>\n",
              "      <td>293.50</td>\n",
              "      <td>293.50</td>\n",
              "      <td>22744</td>\n",
              "      <td>6.675364e+11</td>\n",
              "      <td>NaN</td>\n",
              "      <td>NaN</td>\n",
              "      <td>NaN</td>\n",
              "    </tr>\n",
              "    <tr>\n",
              "      <th>1</th>\n",
              "      <td>293.50</td>\n",
              "      <td>317.0</td>\n",
              "      <td>317.00</td>\n",
              "      <td>297.0</td>\n",
              "      <td>304.0</td>\n",
              "      <td>304.05</td>\n",
              "      <td>303.62</td>\n",
              "      <td>255251</td>\n",
              "      <td>7.749972e+12</td>\n",
              "      <td>NaN</td>\n",
              "      <td>NaN</td>\n",
              "      <td>NaN</td>\n",
              "    </tr>\n",
              "    <tr>\n",
              "      <th>2</th>\n",
              "      <td>304.05</td>\n",
              "      <td>290.0</td>\n",
              "      <td>303.90</td>\n",
              "      <td>285.0</td>\n",
              "      <td>295.0</td>\n",
              "      <td>292.80</td>\n",
              "      <td>294.53</td>\n",
              "      <td>269087</td>\n",
              "      <td>7.925368e+12</td>\n",
              "      <td>NaN</td>\n",
              "      <td>NaN</td>\n",
              "      <td>NaN</td>\n",
              "    </tr>\n",
              "    <tr>\n",
              "      <th>3</th>\n",
              "      <td>292.80</td>\n",
              "      <td>301.0</td>\n",
              "      <td>314.00</td>\n",
              "      <td>295.0</td>\n",
              "      <td>296.0</td>\n",
              "      <td>296.45</td>\n",
              "      <td>300.14</td>\n",
              "      <td>305916</td>\n",
              "      <td>9.181669e+12</td>\n",
              "      <td>NaN</td>\n",
              "      <td>NaN</td>\n",
              "      <td>NaN</td>\n",
              "    </tr>\n",
              "    <tr>\n",
              "      <th>4</th>\n",
              "      <td>296.45</td>\n",
              "      <td>290.0</td>\n",
              "      <td>296.35</td>\n",
              "      <td>281.0</td>\n",
              "      <td>287.1</td>\n",
              "      <td>286.55</td>\n",
              "      <td>288.80</td>\n",
              "      <td>197039</td>\n",
              "      <td>5.690480e+12</td>\n",
              "      <td>NaN</td>\n",
              "      <td>NaN</td>\n",
              "      <td>NaN</td>\n",
              "    </tr>\n",
              "  </tbody>\n",
              "</table>\n",
              "</div>"
            ],
            "text/plain": [
              "   Prev Close   Open    High  ...  Trades  Deliverable Volume  %Deliverble\n",
              "0      271.75  293.5  293.50  ...     NaN                 NaN          NaN\n",
              "1      293.50  317.0  317.00  ...     NaN                 NaN          NaN\n",
              "2      304.05  290.0  303.90  ...     NaN                 NaN          NaN\n",
              "3      292.80  301.0  314.00  ...     NaN                 NaN          NaN\n",
              "4      296.45  290.0  296.35  ...     NaN                 NaN          NaN\n",
              "\n",
              "[5 rows x 12 columns]"
            ]
          },
          "execution_count": 10,
          "metadata": {},
          "output_type": "execute_result"
        }
      ],
      "source": [
        "df.head()"
      ]
    },
    {
      "cell_type": "code",
      "execution_count": null,
      "metadata": {
        "colab": {
          "base_uri": "https://localhost:8080/"
        },
        "id": "HlHjuX8Ge4zy",
        "outputId": "e8033483-1e23-4ef0-d7fb-37307c32cced"
      },
      "outputs": [
        {
          "data": {
            "text/plain": [
              "Prev Close               0\n",
              "Open                     0\n",
              "High                     0\n",
              "Low                      0\n",
              "Last                     0\n",
              "Close                    0\n",
              "VWAP                     0\n",
              "Volume                   0\n",
              "Turnover                 0\n",
              "Trades                2850\n",
              "Deliverable Volume     509\n",
              "%Deliverble            509\n",
              "dtype: int64"
            ]
          },
          "execution_count": 12,
          "metadata": {},
          "output_type": "execute_result"
        }
      ],
      "source": [
        "df.isna().sum()"
      ]
    },
    {
      "cell_type": "code",
      "execution_count": null,
      "metadata": {
        "colab": {
          "base_uri": "https://localhost:8080/"
        },
        "id": "EgjQFviVe422",
        "outputId": "fbb64e6b-91f8-4bb4-93ca-3db66d3e4df9"
      },
      "outputs": [
        {
          "data": {
            "text/plain": [
              "(5306, 12)"
            ]
          },
          "execution_count": 14,
          "metadata": {},
          "output_type": "execute_result"
        }
      ],
      "source": [
        "df.shape"
      ]
    },
    {
      "cell_type": "code",
      "execution_count": null,
      "metadata": {
        "id": "EjzU7-bzfro3"
      },
      "outputs": [],
      "source": [
        "### Fill NAN Values\n"
      ]
    },
    {
      "cell_type": "code",
      "execution_count": null,
      "metadata": {
        "id": "Kc_ETIfKfrtY"
      },
      "outputs": [],
      "source": [
        "df.drop('Trades', axis=1, inplace=True)"
      ]
    },
    {
      "cell_type": "code",
      "execution_count": null,
      "metadata": {
        "colab": {
          "background_save": true
        },
        "id": "zxGvLqlffrve"
      },
      "outputs": [],
      "source": [
        "df['Deliverable Volume'].fillna(df['Deliverable Volume'].median(),inplace=True)\n",
        "df['%Deliverble'].fillna(df['%Deliverble'].mean(),inplace=True)"
      ]
    },
    {
      "cell_type": "code",
      "execution_count": null,
      "metadata": {
        "colab": {
          "base_uri": "https://localhost:8080/"
        },
        "id": "bVK3t1wchOjf",
        "outputId": "c6c05627-e8b6-44f8-be6c-a9973fa7ac1c"
      },
      "outputs": [
        {
          "data": {
            "text/plain": [
              "Prev Close            0\n",
              "Open                  0\n",
              "High                  0\n",
              "Low                   0\n",
              "Last                  0\n",
              "Close                 0\n",
              "VWAP                  0\n",
              "Volume                0\n",
              "Turnover              0\n",
              "Deliverable Volume    0\n",
              "%Deliverble           0\n",
              "dtype: int64"
            ]
          },
          "execution_count": 23,
          "metadata": {},
          "output_type": "execute_result"
        }
      ],
      "source": [
        "df.isna().sum()"
      ]
    },
    {
      "cell_type": "code",
      "execution_count": null,
      "metadata": {
        "id": "qIM6ArHshO4_"
      },
      "outputs": [],
      "source": [
        "### PLotting The GRAPH"
      ]
    },
    {
      "cell_type": "code",
      "execution_count": null,
      "metadata": {
        "colab": {
          "background_save": true,
          "base_uri": "https://localhost:8080/",
          "height": 621
        },
        "id": "kaLB1KtPhrIb",
        "outputId": "f02af4aa-2901-4b90-e6c2-85c6466f90fe"
      },
      "outputs": [
        {
          "data": {
            "image/png": "[encoded data removed]",
            "text/plain": [
              "<Figure size 720x720 with 1 Axes>"
            ]
          },
          "metadata": {},
          "output_type": "display_data"
        }
      ],
      "source": [
        "import matplotlib.pyplot as plt\n",
        "\n",
        "fig,ax=plt.subplots(figsize=(10,10))\n",
        "ax.scatter(df['Deliverable Volume'],df['Close'])\n",
        "ax.set(title=\"Deliverable Volume Vs Clossing Price\",\n",
        "       xlabel=\"Deliverabel Volume\",\n",
        "       ylabel=\"Closing Price\");"
      ]
    },
    {
      "cell_type": "code",
      "execution_count": null,
      "metadata": {
        "id": "OJwvUhxGjsqE"
      },
      "outputs": [],
      "source": []
    },
    {
      "cell_type": "code",
      "execution_count": null,
      "metadata": {
        "colab": {
          "base_uri": "https://localhost:8080/",
          "height": 128
        },
        "id": "-n-9OQ5OhrRv",
        "outputId": "cd33b118-6426-48c2-cb3e-e8a444825a47"
      },
      "outputs": [
        {
          "ename": "SyntaxError",
          "evalue": "ignored",
          "output_type": "error",
          "traceback": [
            "\u001b[0;36m  File \u001b[0;32m\"<ipython-input-29-ab2ddb1f72f8>\"\u001b[0;36m, line \u001b[0;32m1\u001b[0m\n\u001b[0;31m    df[\"Deliverable Volume\"]=pd.to_datetime(df.Deliverable Volume,format=\"%Y-%m-%d\")\u001b[0m\n\u001b[0m                                                                ^\u001b[0m\n\u001b[0;31mSyntaxError\u001b[0m\u001b[0;31m:\u001b[0m invalid syntax\n"
          ]
        }
      ],
      "source": [
        "df[\"Deliverable Volume\"]=pd.to_datetime(df.Deliverable Volume,format=\"%Y-%m-%d\")\n",
        "df.index=df['Deliverable Volume']\n",
        "plt.figure(figsize=(16,8))\n",
        "plt.plot(df[\"Close\"],label='Close Price history')"
      ]
    },
    {
      "cell_type": "code",
      "execution_count": null,
      "metadata": {
        "id": "HW2ETtYijtnG"
      },
      "outputs": [],
      "source": [
        "### splitting Dataset"
      ]
    },
    {
      "cell_type": "code",
      "execution_count": null,
      "metadata": {
        "colab": {
          "background_save": true
        },
        "id": "c4ylmOJajtq3"
      },
      "outputs": [],
      "source": [
        "from sklearn.model_selection import train_test_split"
      ]
    },
    {
      "cell_type": "code",
      "execution_count": null,
      "metadata": {
        "id": "Srzco1LzkmAX"
      },
      "outputs": [],
      "source": [
        "X=df.drop('Close', axis=1)\n",
        "Y=df['Close']"
      ]
    },
    {
      "cell_type": "code",
      "execution_count": null,
      "metadata": {
        "id": "cMMOvEGDkmDE"
      },
      "outputs": [],
      "source": [
        "X_train,X_test,Y_train,Y_test=train_test_split(X,Y,test_size=0.2,random_state=42)"
      ]
    },
    {
      "cell_type": "code",
      "execution_count": null,
      "metadata": {
        "colab": {
          "base_uri": "https://localhost:8080/"
        },
        "id": "U5B38U58kmGC",
        "outputId": "59ec5237-b471-44de-c7eb-69e7a6ec310e"
      },
      "outputs": [
        {
          "data": {
            "text/plain": [
              "2284    1433.60\n",
              "5096    1754.65\n",
              "602      594.80\n",
              "1215     649.65\n",
              "2092    2732.40\n",
              "Name: Close, dtype: float64"
            ]
          },
          "execution_count": 38,
          "metadata": {},
          "output_type": "execute_result"
        }
      ],
      "source": [
        "Y_train[:5]"
      ]
    },
    {
      "cell_type": "code",
      "execution_count": null,
      "metadata": {
        "colab": {
          "base_uri": "https://localhost:8080/",
          "height": 203
        },
        "id": "N7a6D3u9kmKX",
        "outputId": "397ae0ef-16b2-4a18-db18-8f7f02c85ddf"
      },
      "outputs": [
        {
          "data": {
            "text/html": [
              "<div>\n",
              "<style scoped>\n",
              "    .dataframe tbody tr th:only-of-type {\n",
              "        vertical-align: middle;\n",
              "    }\n",
              "\n",
              "    .dataframe tbody tr th {\n",
              "        vertical-align: top;\n",
              "    }\n",
              "\n",
              "    .dataframe thead th {\n",
              "        text-align: right;\n",
              "    }\n",
              "</style>\n",
              "<table border=\"1\" class=\"dataframe\">\n",
              "  <thead>\n",
              "    <tr style=\"text-align: right;\">\n",
              "      <th></th>\n",
              "      <th>Prev Close</th>\n",
              "      <th>Open</th>\n",
              "      <th>High</th>\n",
              "      <th>Low</th>\n",
              "      <th>Last</th>\n",
              "      <th>VWAP</th>\n",
              "      <th>Volume</th>\n",
              "      <th>Turnover</th>\n",
              "      <th>Deliverable Volume</th>\n",
              "      <th>%Deliverble</th>\n",
              "    </tr>\n",
              "  </thead>\n",
              "  <tbody>\n",
              "    <tr>\n",
              "      <th>2284</th>\n",
              "      <td>1498.55</td>\n",
              "      <td>1485.00</td>\n",
              "      <td>1490.00</td>\n",
              "      <td>1422.1</td>\n",
              "      <td>1424.00</td>\n",
              "      <td>1451.14</td>\n",
              "      <td>1467526</td>\n",
              "      <td>2.129582e+14</td>\n",
              "      <td>912529.0</td>\n",
              "      <td>0.6218</td>\n",
              "    </tr>\n",
              "    <tr>\n",
              "      <th>5096</th>\n",
              "      <td>1741.15</td>\n",
              "      <td>1751.15</td>\n",
              "      <td>1792.70</td>\n",
              "      <td>1747.2</td>\n",
              "      <td>1761.00</td>\n",
              "      <td>1771.08</td>\n",
              "      <td>6325246</td>\n",
              "      <td>1.120253e+15</td>\n",
              "      <td>2913361.0</td>\n",
              "      <td>0.4606</td>\n",
              "    </tr>\n",
              "    <tr>\n",
              "      <th>602</th>\n",
              "      <td>594.90</td>\n",
              "      <td>594.00</td>\n",
              "      <td>601.20</td>\n",
              "      <td>561.1</td>\n",
              "      <td>594.95</td>\n",
              "      <td>594.05</td>\n",
              "      <td>99684</td>\n",
              "      <td>5.921774e+12</td>\n",
              "      <td>1021574.0</td>\n",
              "      <td>0.6944</td>\n",
              "    </tr>\n",
              "    <tr>\n",
              "      <th>1215</th>\n",
              "      <td>629.85</td>\n",
              "      <td>637.80</td>\n",
              "      <td>651.00</td>\n",
              "      <td>632.0</td>\n",
              "      <td>649.25</td>\n",
              "      <td>645.05</td>\n",
              "      <td>416185</td>\n",
              "      <td>2.684612e+13</td>\n",
              "      <td>316683.0</td>\n",
              "      <td>0.7609</td>\n",
              "    </tr>\n",
              "    <tr>\n",
              "      <th>2092</th>\n",
              "      <td>2722.90</td>\n",
              "      <td>2725.00</td>\n",
              "      <td>2765.95</td>\n",
              "      <td>2712.1</td>\n",
              "      <td>2726.90</td>\n",
              "      <td>2735.37</td>\n",
              "      <td>583458</td>\n",
              "      <td>1.595975e+14</td>\n",
              "      <td>369129.0</td>\n",
              "      <td>0.6327</td>\n",
              "    </tr>\n",
              "  </tbody>\n",
              "</table>\n",
              "</div>"
            ],
            "text/plain": [
              "      Prev Close     Open  ...  Deliverable Volume  %Deliverble\n",
              "2284     1498.55  1485.00  ...            912529.0       0.6218\n",
              "5096     1741.15  1751.15  ...           2913361.0       0.4606\n",
              "602       594.90   594.00  ...           1021574.0       0.6944\n",
              "1215      629.85   637.80  ...            316683.0       0.7609\n",
              "2092     2722.90  2725.00  ...            369129.0       0.6327\n",
              "\n",
              "[5 rows x 10 columns]"
            ]
          },
          "execution_count": 39,
          "metadata": {},
          "output_type": "execute_result"
        }
      ],
      "source": [
        "X_train[:5]"
      ]
    },
    {
      "cell_type": "code",
      "execution_count": null,
      "metadata": {
        "id": "hMwfnP22kmNK"
      },
      "outputs": [],
      "source": [
        "import seaborn as sns\n",
        "from sklearn.metrics import classification_report,confusion_matrix"
      ]
    },
    {
      "cell_type": "code",
      "execution_count": null,
      "metadata": {
        "colab": {
          "background_save": true,
          "base_uri": "https://localhost:8080/",
          "height": 388
        },
        "id": "sDD9XFTBne51",
        "outputId": "3542e1c0-7fc5-4ea0-c35c-11fae59919fb"
      },
      "outputs": [
        {
          "data": {
            "text/html": [
              "<div>\n",
              "<style scoped>\n",
              "    .dataframe tbody tr th:only-of-type {\n",
              "        vertical-align: middle;\n",
              "    }\n",
              "\n",
              "    .dataframe tbody tr th {\n",
              "        vertical-align: top;\n",
              "    }\n",
              "\n",
              "    .dataframe thead th {\n",
              "        text-align: right;\n",
              "    }\n",
              "</style>\n",
              "<table border=\"1\" class=\"dataframe\">\n",
              "  <thead>\n",
              "    <tr style=\"text-align: right;\">\n",
              "      <th></th>\n",
              "      <th>Prev Close</th>\n",
              "      <th>Open</th>\n",
              "      <th>High</th>\n",
              "      <th>Low</th>\n",
              "      <th>Last</th>\n",
              "      <th>Close</th>\n",
              "      <th>VWAP</th>\n",
              "      <th>Volume</th>\n",
              "      <th>Turnover</th>\n",
              "      <th>Deliverable Volume</th>\n",
              "      <th>%Deliverble</th>\n",
              "    </tr>\n",
              "  </thead>\n",
              "  <tbody>\n",
              "    <tr>\n",
              "      <th>Prev Close</th>\n",
              "      <td>1.000000</td>\n",
              "      <td>0.998656</td>\n",
              "      <td>0.998095</td>\n",
              "      <td>0.998008</td>\n",
              "      <td>0.997662</td>\n",
              "      <td>0.997699</td>\n",
              "      <td>0.998143</td>\n",
              "      <td>0.117363</td>\n",
              "      <td>0.415067</td>\n",
              "      <td>0.025415</td>\n",
              "      <td>-0.298564</td>\n",
              "    </tr>\n",
              "    <tr>\n",
              "      <th>Open</th>\n",
              "      <td>0.998656</td>\n",
              "      <td>1.000000</td>\n",
              "      <td>0.999306</td>\n",
              "      <td>0.999326</td>\n",
              "      <td>0.998897</td>\n",
              "      <td>0.998928</td>\n",
              "      <td>0.999405</td>\n",
              "      <td>0.116958</td>\n",
              "      <td>0.415590</td>\n",
              "      <td>0.024877</td>\n",
              "      <td>-0.298639</td>\n",
              "    </tr>\n",
              "    <tr>\n",
              "      <th>High</th>\n",
              "      <td>0.998095</td>\n",
              "      <td>0.999306</td>\n",
              "      <td>1.000000</td>\n",
              "      <td>0.998895</td>\n",
              "      <td>0.999428</td>\n",
              "      <td>0.999466</td>\n",
              "      <td>0.999656</td>\n",
              "      <td>0.117639</td>\n",
              "      <td>0.416765</td>\n",
              "      <td>0.024709</td>\n",
              "      <td>-0.302566</td>\n",
              "    </tr>\n",
              "    <tr>\n",
              "      <th>Low</th>\n",
              "      <td>0.998008</td>\n",
              "      <td>0.999326</td>\n",
              "      <td>0.998895</td>\n",
              "      <td>1.000000</td>\n",
              "      <td>0.999365</td>\n",
              "      <td>0.999403</td>\n",
              "      <td>0.999632</td>\n",
              "      <td>0.116228</td>\n",
              "      <td>0.415140</td>\n",
              "      <td>0.024411</td>\n",
              "      <td>-0.295720</td>\n",
              "    </tr>\n",
              "    <tr>\n",
              "      <th>Last</th>\n",
              "      <td>0.997662</td>\n",
              "      <td>0.998897</td>\n",
              "      <td>0.999428</td>\n",
              "      <td>0.999365</td>\n",
              "      <td>1.000000</td>\n",
              "      <td>0.999960</td>\n",
              "      <td>0.999789</td>\n",
              "      <td>0.117330</td>\n",
              "      <td>0.416396</td>\n",
              "      <td>0.024765</td>\n",
              "      <td>-0.299823</td>\n",
              "    </tr>\n",
              "    <tr>\n",
              "      <th>Close</th>\n",
              "      <td>0.997699</td>\n",
              "      <td>0.998928</td>\n",
              "      <td>0.999466</td>\n",
              "      <td>0.999403</td>\n",
              "      <td>0.999960</td>\n",
              "      <td>1.000000</td>\n",
              "      <td>0.999826</td>\n",
              "      <td>0.117280</td>\n",
              "      <td>0.416303</td>\n",
              "      <td>0.024774</td>\n",
              "      <td>-0.299633</td>\n",
              "    </tr>\n",
              "    <tr>\n",
              "      <th>VWAP</th>\n",
              "      <td>0.998143</td>\n",
              "      <td>0.999405</td>\n",
              "      <td>0.999656</td>\n",
              "      <td>0.999632</td>\n",
              "      <td>0.999789</td>\n",
              "      <td>0.999826</td>\n",
              "      <td>1.000000</td>\n",
              "      <td>0.117080</td>\n",
              "      <td>0.416207</td>\n",
              "      <td>0.024563</td>\n",
              "      <td>-0.299641</td>\n",
              "    </tr>\n",
              "    <tr>\n",
              "      <th>Volume</th>\n",
              "      <td>0.117363</td>\n",
              "      <td>0.116958</td>\n",
              "      <td>0.117639</td>\n",
              "      <td>0.116228</td>\n",
              "      <td>0.117330</td>\n",
              "      <td>0.117280</td>\n",
              "      <td>0.117080</td>\n",
              "      <td>1.000000</td>\n",
              "      <td>0.835242</td>\n",
              "      <td>0.962735</td>\n",
              "      <td>0.011542</td>\n",
              "    </tr>\n",
              "    <tr>\n",
              "      <th>Turnover</th>\n",
              "      <td>0.415067</td>\n",
              "      <td>0.415590</td>\n",
              "      <td>0.416765</td>\n",
              "      <td>0.415140</td>\n",
              "      <td>0.416396</td>\n",
              "      <td>0.416303</td>\n",
              "      <td>0.416207</td>\n",
              "      <td>0.835242</td>\n",
              "      <td>1.000000</td>\n",
              "      <td>0.711231</td>\n",
              "      <td>-0.112634</td>\n",
              "    </tr>\n",
              "    <tr>\n",
              "      <th>Deliverable Volume</th>\n",
              "      <td>0.025415</td>\n",
              "      <td>0.024877</td>\n",
              "      <td>0.024709</td>\n",
              "      <td>0.024411</td>\n",
              "      <td>0.024765</td>\n",
              "      <td>0.024774</td>\n",
              "      <td>0.024563</td>\n",
              "      <td>0.962735</td>\n",
              "      <td>0.711231</td>\n",
              "      <td>1.000000</td>\n",
              "      <td>0.111771</td>\n",
              "    </tr>\n",
              "    <tr>\n",
              "      <th>%Deliverble</th>\n",
              "      <td>-0.298564</td>\n",
              "      <td>-0.298639</td>\n",
              "      <td>-0.302566</td>\n",
              "      <td>-0.295720</td>\n",
              "      <td>-0.299823</td>\n",
              "      <td>-0.299633</td>\n",
              "      <td>-0.299641</td>\n",
              "      <td>0.011542</td>\n",
              "      <td>-0.112634</td>\n",
              "      <td>0.111771</td>\n",
              "      <td>1.000000</td>\n",
              "    </tr>\n",
              "  </tbody>\n",
              "</table>\n",
              "</div>"
            ],
            "text/plain": [
              "                    Prev Close      Open  ...  Deliverable Volume  %Deliverble\n",
              "Prev Close            1.000000  0.998656  ...            0.025415    -0.298564\n",
              "Open                  0.998656  1.000000  ...            0.024877    -0.298639\n",
              "High                  0.998095  0.999306  ...            0.024709    -0.302566\n",
              "Low                   0.998008  0.999326  ...            0.024411    -0.295720\n",
              "Last                  0.997662  0.998897  ...            0.024765    -0.299823\n",
              "Close                 0.997699  0.998928  ...            0.024774    -0.299633\n",
              "VWAP                  0.998143  0.999405  ...            0.024563    -0.299641\n",
              "Volume                0.117363  0.116958  ...            0.962735     0.011542\n",
              "Turnover              0.415067  0.415590  ...            0.711231    -0.112634\n",
              "Deliverable Volume    0.025415  0.024877  ...            1.000000     0.111771\n",
              "%Deliverble          -0.298564 -0.298639  ...            0.111771     1.000000\n",
              "\n",
              "[11 rows x 11 columns]"
            ]
          },
          "execution_count": null,
          "metadata": {},
          "output_type": "execute_result"
        }
      ],
      "source": [
        "corr_mat=df.corr()\n",
        "corr_mat"
      ]
    },
    {
      "cell_type": "code",
      "execution_count": null,
      "metadata": {
        "colab": {
          "base_uri": "https://localhost:8080/",
          "height": 574
        },
        "id": "Kct3l5VXnfBj",
        "outputId": "60c1297c-bcd0-465a-9f68-a64f0fcbe540"
      },
      "outputs": [
        {
          "data": {
            "image/png": "[encoded data removed]",
            "text/plain": [
              "<Figure size 864x576 with 2 Axes>"
            ]
          },
          "metadata": {},
          "output_type": "display_data"
        }
      ],
      "source": [
        "fig,ax=plt.subplots(figsize=(12,8))\n",
        "ax=sns.heatmap(corr_mat,\n",
        "               annot=True,\n",
        "               linewidth=0.5,\n",
        "               cmap=\"RdBu\",\n",
        "               fmt=\".2f\")"
      ]
    },
    {
      "cell_type": "code",
      "execution_count": null,
      "metadata": {
        "id": "rUzHdnsEnfUw"
      },
      "outputs": [],
      "source": [
        "def correlation(dataset,threshold):\n",
        "  col_corr=set()\n",
        "  corr_matrix=df.corr()\n",
        "  for i in range(len(corr_matrix.columns)):\n",
        "    for j in range(i):\n",
        "        if abs(corr_matrix.iloc[i,j])>threshold:\n",
        "          col_name=corr_matrix.columns[i]\n",
        "          col_corr.add(col_name)\n",
        "\n",
        "  return col_corr"
      ]
    },
    {
      "cell_type": "code",
      "execution_count": null,
      "metadata": {
        "colab": {
          "base_uri": "https://localhost:8080/"
        },
        "id": "2CN28SfCqLu7",
        "outputId": "adaf1383-cd43-44e6-f123-cddb71bc67d8"
      },
      "outputs": [
        {
          "data": {
            "text/plain": [
              "{'Close',\n",
              " 'Deliverable Volume',\n",
              " 'High',\n",
              " 'Last',\n",
              " 'Low',\n",
              " 'Open',\n",
              " 'Turnover',\n",
              " 'VWAP'}"
            ]
          },
          "execution_count": 53,
          "metadata": {},
          "output_type": "execute_result"
        }
      ],
      "source": [
        "corr_features=correlation(X_train,0.8)\n",
        "corr_features"
      ]
    },
    {
      "cell_type": "code",
      "execution_count": null,
      "metadata": {
        "id": "tlWbEu9fqL0o"
      },
      "outputs": [],
      "source": [
        "df.drop('Turnover', axis=1, inplace=True)\n",
        "df.drop('VWAP', axis=1, inplace=True)\n",
        "df.drop('Last', axis=1, inplace=True)"
      ]
    },
    {
      "cell_type": "code",
      "execution_count": null,
      "metadata": {
        "colab": {
          "base_uri": "https://localhost:8080/"
        },
        "id": "AfQN8S1wqL3v",
        "outputId": "1a2a2212-a074-4fed-f62c-d4cce724aed6"
      },
      "outputs": [
        {
          "data": {
            "text/plain": [
              "8"
            ]
          },
          "execution_count": 55,
          "metadata": {},
          "output_type": "execute_result"
        }
      ],
      "source": [
        "len(df.columns)"
      ]
    },
    {
      "cell_type": "code",
      "execution_count": null,
      "metadata": {
        "id": "on-jMmBzqL7h"
      },
      "outputs": [],
      "source": [
        "#### Model"
      ]
    },
    {
      "cell_type": "code",
      "execution_count": null,
      "metadata": {
        "colab": {
          "base_uri": "https://localhost:8080/",
          "height": 1000
        },
        "id": "ihRe7beBqMfr",
        "outputId": "078de97a-0c89-4109-d4ae-591a0d40a409"
      },
      "outputs": [
        {
          "data": {
            "text/plain": [
              "<seaborn.axisgrid.PairGrid at 0x7ff19ff61590>"
            ]
          },
          "execution_count": 56,
          "metadata": {},
          "output_type": "execute_result"
        },
        {
          "data": {
            "image/png": "[encoded data removed]",
            "text/plain": [
              "<Figure size 1980x1980 with 132 Axes>"
            ]
          },
          "metadata": {},
          "output_type": "display_data"
        }
      ],
      "source": [
        "sns.pairplot(corr_mat)"
      ]
    },
    {
      "cell_type": "code",
      "execution_count": null,
      "metadata": {
        "id": "3C81GEarqMii"
      },
      "outputs": [],
      "source": [
        "X_train,X_test,Y_train,Y_test=train_test_split(X,Y,test_size=0.2,random_state=42)"
      ]
    },
    {
      "cell_type": "code",
      "execution_count": null,
      "metadata": {
        "id": "oNw4SxHbqMlq"
      },
      "outputs": [],
      "source": [
        "np.random.seed(42)\n",
        "from sklearn.ensemble import RandomForestRegressor"
      ]
    },
    {
      "cell_type": "code",
      "execution_count": null,
      "metadata": {
        "colab": {
          "base_uri": "https://localhost:8080/"
        },
        "id": "YUfNs85kqMob",
        "outputId": "5ae880a3-0c7e-4182-e359-d03f90e41e33"
      },
      "outputs": [
        {
          "data": {
            "text/plain": [
              "RandomForestRegressor(bootstrap=True, ccp_alpha=0.0, criterion='mse',\n",
              "                      max_depth=None, max_features='auto', max_leaf_nodes=None,\n",
              "                      max_samples=None, min_impurity_decrease=0.0,\n",
              "                      min_impurity_split=None, min_samples_leaf=1,\n",
              "                      min_samples_split=2, min_weight_fraction_leaf=0.0,\n",
              "                      n_estimators=100, n_jobs=None, oob_score=False,\n",
              "                      random_state=None, verbose=0, warm_start=False)"
            ]
          },
          "execution_count": 59,
          "metadata": {},
          "output_type": "execute_result"
        }
      ],
      "source": [
        "model=RandomForestRegressor()\n",
        "model.fit(X_train,Y_train)"
      ]
    },
    {
      "cell_type": "code",
      "execution_count": null,
      "metadata": {
        "colab": {
          "base_uri": "https://localhost:8080/"
        },
        "id": "PaMSjuBEqMrl",
        "outputId": "8e3cf02a-3877-4284-aee5-64d4bd4b392e"
      },
      "outputs": [
        {
          "data": {
            "text/plain": [
              "0.9999229102502505"
            ]
          },
          "execution_count": 60,
          "metadata": {},
          "output_type": "execute_result"
        }
      ],
      "source": [
        "model.score(X_test,Y_test)"
      ]
    },
    {
      "cell_type": "code",
      "execution_count": null,
      "metadata": {
        "colab": {
          "base_uri": "https://localhost:8080/"
        },
        "id": "K5uIt398qMun",
        "outputId": "7bd05925-3a97-40e4-9e08-210f1b11ca7e"
      },
      "outputs": [
        {
          "data": {
            "text/plain": [
              "array([ 339.681 , 1126.9935, 2671.6095, ...,  752.2915,  668.3845,\n",
              "       1375.4595])"
            ]
          },
          "execution_count": 61,
          "metadata": {},
          "output_type": "execute_result"
        }
      ],
      "source": [
        "Y_preds=model.predict(X_test)\n",
        "Y_preds"
      ]
    },
    {
      "cell_type": "code",
      "execution_count": null,
      "metadata": {
        "colab": {
          "base_uri": "https://localhost:8080/"
        },
        "id": "7Vp48gg2qMxs",
        "outputId": "4cf0793e-4a02-47e5-9e4a-ef928c6521f4"
      },
      "outputs": [
        {
          "data": {
            "text/plain": [
              "array([823.925])"
            ]
          },
          "execution_count": 64,
          "metadata": {},
          "output_type": "execute_result"
        }
      ],
      "source": [
        "model.predict([[100,45,1999,273,56,987,187,119,2345,567]])"
      ]
    },
    {
      "cell_type": "code",
      "execution_count": null,
      "metadata": {
        "colab": {
          "base_uri": "https://localhost:8080/"
        },
        "id": "l68y19FYqM0s",
        "outputId": "514a7192-d3ca-4db5-c053-c91b2a200866"
      },
      "outputs": [
        {
          "data": {
            "text/plain": [
              "Index(['Prev Close', 'Open', 'High', 'Low', 'Close', 'Volume',\n",
              "       'Deliverable Volume', '%Deliverble'],\n",
              "      dtype='object')"
            ]
          },
          "execution_count": 65,
          "metadata": {},
          "output_type": "execute_result"
        }
      ],
      "source": [
        "df.columns"
      ]
    }
  ],
  "metadata": {
    "colab": {
      "collapsed_sections": [],
      "provenance": []
    },
    "kernelspec": {
      "display_name": "Python 3",
      "name": "python3"
    },
    "language_info": {
      "name": "python"
    }
  },
  "nbformat": 4,
  "nbformat_minor": 0
}